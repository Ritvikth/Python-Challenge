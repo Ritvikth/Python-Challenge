{
 "cells": [
  {
   "cell_type": "code",
   "execution_count": 1,
   "id": "a53bd3d8-822b-4f91-99a4-a48291944009",
   "metadata": {},
   "outputs": [],
   "source": [
    "#Open Libraries \n",
    "from pathlib import Path\n",
    "import csv"
   ]
  },
  {
   "cell_type": "code",
   "execution_count": 22,
   "id": "a9e88351-5b77-4149-9888-7f3325381bee",
   "metadata": {},
   "outputs": [],
   "source": [
    "#Path for CSV file\n",
    "csvpath = Path(\"C:/Users/ritvi/OneDrive/Documents/# UofT FinTech Course/python-challenge/python-challenge/PyBank/budget_data.csv\")"
   ]
  },
  {
   "cell_type": "code",
   "execution_count": 39,
   "id": "bd00a277-c3b2-403e-bb19-36ced21e684f",
   "metadata": {},
   "outputs": [],
   "source": [
    "#New empty lists where values will be added to\n",
    "month = []\n",
    "profitloss = []\n",
    "change_profitloss = []\n",
    "\n",
    "#Varibles defined and set to 0\n",
    "rowcount = 0\n",
    "net_profit_loss = 0\n",
    "last_profit_loss = 0\n",
    "current_profit_loss = 0\n",
    "change_profit_loss = 0"
   ]
  },
  {
   "cell_type": "code",
   "execution_count": 40,
   "id": "fcf5ea3a-132e-4519-bd1b-b6d4f106b358",
   "metadata": {},
   "outputs": [],
   "source": [
    "#Opening the CSV File\n",
    "with open(csvpath, \"r\") as csvfile:\n",
    "    \n",
    "    #Reading the header of the CSV\n",
    "    csvreader = csv.reader(csvfile, delimiter=\",\")\n",
    "    csv_header = next(csvreader)\n",
    "    \n",
    "    #For each row in the budget_data.csv\n",
    "    for row in csvreader:\n",
    "        #To count number of months\n",
    "        rowcount += 1\n",
    "        \n",
    "        #For total profit/loss\n",
    "        profit_loss = int(row[1])\n",
    "        net_profit_loss += profit_loss\n",
    "        \n",
    "        #appending the values and adding them on to the list\n",
    "        month.append(row[0])\n",
    "        profitloss.append(int(row[1]))\n",
    "    for i in range(len(profitloss)-1):\n",
    "        change_profitloss.append(profitloss[i+1]-profitloss[i])\n",
    "    "
   ]
  },
  {
   "cell_type": "code",
   "execution_count": 41,
   "id": "50c7c815-f9b6-43e0-8a5d-8c13f18974a5",
   "metadata": {},
   "outputs": [],
   "source": [
    "#Calculating average\n",
    "overall_sum = sum(change_profitloss)\n",
    "average = round(overall_sum/(rowcount - 1), 2)\n",
    "\n",
    "#Calculating the maximum profit and maximum loss\n",
    "highest_profit = max(change_profitloss)\n",
    "highest_loss = min(change_profitloss)\n",
    "\n",
    "#Indexing maximum profit & loss to their respective months\n",
    "month_highest_profit = change_profitloss.index(highest_profit)+1\n",
    "month_highest_loss = change_profitloss.index(highest_loss)+1\n",
    "highest_profit_month = month[month_highest_profit]\n",
    "highest_loss_month = month[month_highest_loss]"
   ]
  },
  {
   "cell_type": "code",
   "execution_count": 42,
   "id": "489f027e-19de-4618-9360-c90c5ae6dd50",
   "metadata": {},
   "outputs": [
    {
     "name": "stdout",
     "output_type": "stream",
     "text": [
      "Financial Analysis\n",
      "----------------------------\n",
      "Total Months:  86\n",
      "Total:  $38382578\n",
      "Average Change:  $-2315.12\n",
      "Greatest Increase in Profits:  Feb-2012 ($1926159)\n",
      "Greatest Decrease in Losses:  Sep-2013 ($-2196167)\n"
     ]
    }
   ],
   "source": [
    "print(\"Financial Analysis\")\n",
    "print(\"----------------------------\")\n",
    "print(f\"Total Months:  {rowcount}\")\n",
    "print(f\"Total:  ${net_profit_loss}\")\n",
    "print(f\"Average Change:  ${average}\")\n",
    "print(f\"Greatest Increase in Profits:  {highest_profit_month} (${highest_profit})\")\n",
    "print(f\"Greatest Decrease in Losses:  {highest_loss_month} (${highest_loss})\")"
   ]
  },
  {
   "cell_type": "code",
   "execution_count": null,
   "id": "3a99d251-6958-4367-9982-c3ecd31dd6da",
   "metadata": {},
   "outputs": [],
   "source": []
  }
 ],
 "metadata": {
  "kernelspec": {
   "display_name": "Python 3 (ipykernel)",
   "language": "python",
   "name": "python3"
  },
  "language_info": {
   "codemirror_mode": {
    "name": "ipython",
    "version": 3
   },
   "file_extension": ".py",
   "mimetype": "text/x-python",
   "name": "python",
   "nbconvert_exporter": "python",
   "pygments_lexer": "ipython3",
   "version": "3.9.13"
  }
 },
 "nbformat": 4,
 "nbformat_minor": 5
}
